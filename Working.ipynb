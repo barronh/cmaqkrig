{
 "cells": [
  {
   "cell_type": "code",
   "execution_count": null,
   "metadata": {},
   "outputs": [],
   "source": [
    "%matplotlib inline"
   ]
  },
  {
   "cell_type": "code",
   "execution_count": null,
   "metadata": {},
   "outputs": [],
   "source": [
    "import numpy as np\n",
    "import matplotlib.pyplot as plt\n",
    "import PseudoNetCDF as pnc\n",
    "import pycno"
   ]
  },
  {
   "cell_type": "code",
   "execution_count": null,
   "metadata": {},
   "outputs": [],
   "source": [
    "plt.rc('figure', facecolor='white')"
   ]
  },
  {
   "cell_type": "code",
   "execution_count": null,
   "metadata": {},
   "outputs": [],
   "source": [
    "for validate in [0, 1, 2, 3, 4, 5, 6, 7, 8, 9, 10]:\n",
    "    %run scripts/cmaq_uk.py --validate={validate}\n",
    "    %run scripts/blend.py --validate={validate} 20160715\n",
    "    %run scripts/validate {validate} 20160715\n",
    "    "
   ]
  },
  {
   "cell_type": "code",
   "execution_count": null,
   "metadata": {},
   "outputs": [],
   "source": [
    "%run scripts/make_maps.py 20160701"
   ]
  },
  {
   "cell_type": "code",
   "execution_count": null,
   "metadata": {},
   "outputs": [],
   "source": [
    "f = pnc.pncopen('output/UK.20160715.FUSED.URBRUR.nc')\n",
    "cno = pycno.cno(proj=f.getproj(withgrid=True))\n",
    "plt.pcolormesh(f.variables['UK_TOTAL'][0, 0], vmin=20, vmax=100)\n",
    "cno.draw('MWDB_Coasts_USA_3.cnob')\n",
    "plt.colorbar(label='ppb');"
   ]
  },
  {
   "cell_type": "code",
   "execution_count": null,
   "metadata": {},
   "outputs": [],
   "source": []
  }
 ],
 "metadata": {
  "kernelspec": {
   "display_name": "anaconda",
   "language": "python",
   "name": "anaconda"
  },
  "language_info": {
   "codemirror_mode": {
    "name": "ipython",
    "version": 3
   },
   "file_extension": ".py",
   "mimetype": "text/x-python",
   "name": "python",
   "nbconvert_exporter": "python",
   "pygments_lexer": "ipython3",
   "version": "3.6.1"
  }
 },
 "nbformat": 4,
 "nbformat_minor": 4
}
